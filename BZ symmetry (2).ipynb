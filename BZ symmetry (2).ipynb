{
 "cells": [
  {
   "cell_type": "code",
   "execution_count": 2,
   "metadata": {
    "code_folding": []
   },
   "outputs": [],
   "source": [
    "#imports\n",
    "import pychemia\n",
    "from pyprocar import ProcarSelect,ProcarParser,UtilsProcar\n",
    "import pyprocar\n",
    "import re\n",
    "import numpy as np\n",
    "import sys"
   ]
  },
  {
   "cell_type": "markdown",
   "metadata": {},
   "source": [
    "This function parses each symmetry operation used by VASP."
   ]
  },
  {
   "cell_type": "code",
   "execution_count": 4,
   "metadata": {},
   "outputs": [],
   "source": [
    "def outcarParse_Operators(outcar):\n",
    "    with open(outcar) as f:\n",
    "        txt = f.readlines()\n",
    "\n",
    "    for i,line in enumerate(txt):\n",
    "        if 'irot' in line:\n",
    "            begin_table = i+1\n",
    "        if 'Subroutine' in line:\n",
    "            end_table = i-1\n",
    "\n",
    "    operators = np.zeros((end_table-begin_table, 9))\n",
    "    for i,line in enumerate(txt[begin_table:end_table]):\n",
    "        str_list = line.split()\n",
    "        num_list = [float(s) for s in str_list]\n",
    "        operator = np.array(num_list)\n",
    "        operators[i,:] = operator\n",
    "    \n",
    "    return operators"
   ]
  },
  {
   "cell_type": "markdown",
   "metadata": {},
   "source": [
    "This converts the symmetry operations from the form of $\\begin{pmatrix}u_{x}\\\\u_{y}\\\\u_{z}\\end{pmatrix}$, $\\theta$, det(A) to rotation matrices."
   ]
  },
  {
   "cell_type": "code",
   "execution_count": 5,
   "metadata": {},
   "outputs": [],
   "source": [
    "#finds rotation matrix from axis vector (normalized) and angle\n",
    "def findR(operator):\n",
    "    det_A = operator[1]\n",
    "    #convert alpha to radians\n",
    "    alpha = np.pi*operator[2]/180.\n",
    "    #get rotation axis\n",
    "    x = operator[3]\n",
    "    y = operator[4]\n",
    "    z = operator[5]\n",
    "    \n",
    "    R = np.array([\n",
    "        [np.cos(alpha) + x**2*(1-np.cos(alpha)), x*y*(1-np.cos(alpha))-z*np.sin(alpha), x*z*(1-np.cos(alpha)) + y*np.sin(alpha)],\n",
    "        [y*x*(1-np.cos(alpha)) + z*np.sin(alpha), np.cos(alpha) + y**2*(1-np.cos(alpha)), y*z*(1-np.cos(alpha)) - x*np.sin(alpha)],\n",
    "        [z*x*(1-np.cos(alpha)) - y*np.sin(alpha), z*y*(1-np.cos(alpha)) + x*np.sin(alpha), np.cos(alpha) + z**2*(1-np.cos(alpha))]\n",
    "    ])*det_A\n",
    "    \n",
    "    R = np.round_(R, decimals=3)\n",
    "    \n",
    "    #get translation\n",
    "    #t = np.array(operator[6:])\n",
    "    \n",
    "    return R"
   ]
  },
  {
   "cell_type": "markdown",
   "metadata": {},
   "source": [
    "This function applies each symmetry operation to each kpoint."
   ]
  },
  {
   "cell_type": "code",
   "execution_count": 6,
   "metadata": {
    "code_folding": []
   },
   "outputs": [],
   "source": [
    "def just_apply_symmetries(kpoints):\n",
    "    klist = frac_kpoints_sym.tolist()\n",
    "    #for each symmetry operation\n",
    "    for i,_ in enumerate(rotations): \n",
    "        #RU = np.matmul(rotations[i],np.transpose(reciprocal_lattice))\n",
    "        #for each point\n",
    "        for point in kpoints:\n",
    "            #apply symmetry operation to kpoint\n",
    "            sympoint_vector = np.dot(rotations[i], point)\n",
    "            sympoint = sympoint_vector.tolist()\n",
    "            klist.append(sympoint)\n",
    "    new_kpoints = np.array(klist)\n",
    "    return new_kpoints"
   ]
  },
  {
   "cell_type": "markdown",
   "metadata": {},
   "source": [
    "Call the files and get the symmetry operations."
   ]
  },
  {
   "cell_type": "code",
   "execution_count": 7,
   "metadata": {
    "code_folding": [],
    "collapsed": true
   },
   "outputs": [
    {
     "data": {
      "text/plain": [
       "\"\\nrf = open('OUTCAR','r')\\noutcar = rf.read()\\nrf.close()\\n\\n\\nstructure = pychemia.code.vasp.read_poscar('POSCAR_Al')\\ncs = pychemia.crystal.CrystalSymmetry(structure)\\n#3x3 matrices to multiply\\nrotations = cs.get_symmetry()['rotations']\\n\\n#3x1 vector to add\\ntranslations = cs.get_symmetry()['translations']\\nsymmetry_vasp = re.findall('point\\\\s*symmetry\\\\s*([A-Z][_a-z0-9]*)',outcar)[0].strip().replace('_','') # THis is the symmetry recognized by the dft code\\nsymmetry_spglib  = cs.get_space_group_type()['pointgroup_international'] # symmetry found by spglib\\n# These two should be the same symmetry_vasp,symmetry_spg. We might want to check in the future\\nprint(symmetry_vasp,symmetry_spglib)\\n\""
      ]
     },
     "execution_count": 7,
     "metadata": {},
     "output_type": "execute_result"
    }
   ],
   "source": [
    "#get symops\n",
    "procar_nosym = 'PROCAR_Si_nosym'\n",
    "procar_sym = 'PROCAR_Si_sym'\n",
    "\n",
    "operators = outcarParse_Operators('OUTCAR_Si')\n",
    "rotations = np.array([findR(operator) for operator in operators])\n",
    "\n",
    "\"\"\"\n",
    "rf = open('OUTCAR','r')\n",
    "outcar = rf.read()\n",
    "rf.close()\n",
    "\n",
    "\n",
    "structure = pychemia.code.vasp.read_poscar('POSCAR_Al')\n",
    "cs = pychemia.crystal.CrystalSymmetry(structure)\n",
    "#3x3 matrices to multiply\n",
    "rotations = cs.get_symmetry()['rotations']\n",
    "\n",
    "#3x1 vector to add\n",
    "translations = cs.get_symmetry()['translations']\n",
    "symmetry_vasp = re.findall('point\\s*symmetry\\s*([A-Z][_a-z0-9]*)',outcar)[0].strip().replace('_','') # THis is the symmetry recognized by the dft code\n",
    "symmetry_spglib  = cs.get_space_group_type()['pointgroup_international'] # symmetry found by spglib\n",
    "# These two should be the same symmetry_vasp,symmetry_spg. We might want to check in the future\n",
    "print(symmetry_vasp,symmetry_spglib)\n",
    "\"\"\""
   ]
  },
  {
   "cell_type": "code",
   "execution_count": 8,
   "metadata": {},
   "outputs": [
    {
     "name": "stdout",
     "output_type": "stream",
     "text": [
      "[[[ 1.  0.  0.]\n",
      "  [ 0.  1. -0.]\n",
      "  [ 0.  0.  1.]]\n",
      "\n",
      " [[-0.  1. -0.]\n",
      "  [-0. -0.  1.]\n",
      "  [ 1. -0. -0.]]\n",
      "\n",
      " [[-0. -0.  1.]\n",
      "  [ 1. -0. -0.]\n",
      "  [-0.  1. -0.]]\n",
      "\n",
      " ...\n",
      "\n",
      " [[-1. -0. -0.]\n",
      "  [ 0.  0. -1.]\n",
      "  [ 0. -1.  0.]]\n",
      "\n",
      " [[ 0. -1. -0.]\n",
      "  [-1.  0. -0.]\n",
      "  [ 0.  0. -1.]]\n",
      "\n",
      " [[ 0.  0. -1.]\n",
      "  [-0. -1. -0.]\n",
      "  [-1.  0.  0.]]]\n"
     ]
    }
   ],
   "source": [
    "np.set_printoptions(threshold=3)\n",
    "print(rotations)"
   ]
  },
  {
   "cell_type": "markdown",
   "metadata": {},
   "source": [
    "This cell will check if a certain matrix listed on the BCS was calculated with our function. For Si it turns out that the matrices match perfectly."
   ]
  },
  {
   "cell_type": "code",
   "execution_count": 9,
   "metadata": {},
   "outputs": [
    {
     "name": "stdout",
     "output_type": "stream",
     "text": [
      "True\n"
     ]
    }
   ],
   "source": [
    "bilbao_matrix = np.array([\n",
    "    [0,0,1],\n",
    "    [0,1,0],\n",
    "    [1,0,0]\n",
    "])\n",
    "bilbao_check = np.any(np.array([np.all(R == bilbao_matrix) for R in rotations]))\n",
    "print(bilbao_check)"
   ]
  },
  {
   "cell_type": "markdown",
   "metadata": {},
   "source": [
    "Parse the kpoints from the VASP runs with and without symmetry."
   ]
  },
  {
   "cell_type": "code",
   "execution_count": 10,
   "metadata": {
    "code_folding": [],
    "scrolled": true
   },
   "outputs": [
    {
     "name": "stdout",
     "output_type": "stream",
     "text": [
      "spd shape      :  (729, 32, 1, 3, 11) [kpoints, bands, spins, atoms+1, orbitals+2]\n",
      "[[ 0.          0.          0.        ]\n",
      " [ 0.11111111  0.          0.        ]\n",
      " [ 0.22222222  0.          0.        ]\n",
      " ...\n",
      " [-0.33333333 -0.11111111 -0.11111111]\n",
      " [-0.22222222 -0.11111111 -0.11111111]\n",
      " [-0.11111111 -0.11111111 -0.11111111]]\n",
      "spd shape      :  (35, 16, 1, 3, 11) [kpoints, bands, spins, atoms+1, orbitals+2]\n",
      "[[ 0.          0.          0.        ]\n",
      " [ 0.11111111  0.          0.        ]\n",
      " [ 0.22222222  0.          0.        ]\n",
      " ...\n",
      " [-0.44444444  0.44444444  0.11111111]\n",
      " [-0.33333333  0.44444444  0.11111111]\n",
      " [-0.33333333  0.44444444  0.22222222]]\n"
     ]
    }
   ],
   "source": [
    "#get kpoints\n",
    "\"\"\"\n",
    "outcarparser = UtilsProcar()\n",
    "\n",
    "#parse reciprocal lattice matrix\n",
    "reciprocal_lattice = np.transpose(outcarparser.RecLatOutcar('OUTCAR'))\n",
    "print(reciprocal_lattice)\n",
    "\n",
    "\"\"\"\n",
    "procarFile = ProcarParser()\n",
    "procarFile.readFile(procar_nosym, False)\n",
    "data_nosym = ProcarSelect(procarFile, deepCopy=True)\n",
    "frac_kpoints_nosym = data_nosym.kpoints\n",
    "print(frac_kpoints_nosym)\n",
    "\n",
    "procarFile = ProcarParser()\n",
    "procarFile.readFile(procar_sym, False)\n",
    "data_sym = ProcarSelect(procarFile, deepCopy=True)\n",
    "frac_kpoints_sym = data_sym.kpoints\n",
    "print(frac_kpoints_sym)"
   ]
  },
  {
   "cell_type": "markdown",
   "metadata": {},
   "source": [
    "Apply symmetry operations and boundary conditions... remove repeated points."
   ]
  },
  {
   "cell_type": "code",
   "execution_count": 11,
   "metadata": {},
   "outputs": [],
   "source": [
    "kpoints_calculated_frac = just_apply_symmetries(frac_kpoints_sym)\n",
    "#kpoints_calculated_frac = np.dot(kpoints_calculated, np.linalg.inv(reciprocal_lattice))\n",
    "bound_ops = -1.0*(kpoints_calculated_frac > 0.5) + 1.0*(kpoints_calculated_frac < -0.5)\n",
    "kpoints_calculated_frac += bound_ops\n",
    "kpoints_unique = np.unique(kpoints_calculated_frac, axis=0)"
   ]
  },
  {
   "cell_type": "code",
   "execution_count": 12,
   "metadata": {},
   "outputs": [
    {
     "name": "stdout",
     "output_type": "stream",
     "text": [
      "[[-0.44444444 -0.44444444 -0.11111111]\n",
      " [-0.44444444 -0.44444444  0.        ]\n",
      " [-0.44444444 -0.44444444  0.11111111]\n",
      " ...\n",
      " [ 0.44444444  0.44444444 -0.11111111]\n",
      " [ 0.44444444  0.44444444  0.        ]\n",
      " [ 0.44444444  0.44444444  0.11111111]] (457, 3)\n"
     ]
    }
   ],
   "source": [
    "print(kpoints_unique, kpoints_unique.shape)"
   ]
  },
  {
   "cell_type": "markdown",
   "metadata": {},
   "source": [
    "This counts how many incorrect points were found (false positives) and how many correct points were missed (misses) to help troubleshoot. "
   ]
  },
  {
   "cell_type": "code",
   "execution_count": 13,
   "metadata": {
    "code_folding": []
   },
   "outputs": [],
   "source": [
    "#check errors\n",
    "misses = 0\n",
    "false_positives = 0\n",
    "for point in frac_kpoints_nosym.tolist():\n",
    "    if point not in kpoints_unique.tolist():\n",
    "        misses += 1\n",
    "        \n",
    "for point in kpoints_unique.tolist():\n",
    "    if point not in frac_kpoints_nosym.tolist():\n",
    "        false_positives += 1"
   ]
  },
  {
   "cell_type": "code",
   "execution_count": 14,
   "metadata": {},
   "outputs": [
    {
     "name": "stdout",
     "output_type": "stream",
     "text": [
      "272 0\n"
     ]
    }
   ],
   "source": [
    "print(misses, false_positives)"
   ]
  }
 ],
 "metadata": {
  "kernelspec": {
   "display_name": "Python 3",
   "language": "python",
   "name": "python3"
  },
  "language_info": {
   "codemirror_mode": {
    "name": "ipython",
    "version": 3
   },
   "file_extension": ".py",
   "mimetype": "text/x-python",
   "name": "python",
   "nbconvert_exporter": "python",
   "pygments_lexer": "ipython3",
   "version": "3.7.3"
  }
 },
 "nbformat": 4,
 "nbformat_minor": 2
}
